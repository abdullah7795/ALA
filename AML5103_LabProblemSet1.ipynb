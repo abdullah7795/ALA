{
  "nbformat": 4,
  "nbformat_minor": 0,
  "metadata": {
    "kernelspec": {
      "display_name": "R",
      "language": "R",
      "name": "ir"
    },
    "language_info": {
      "codemirror_mode": "r",
      "file_extension": ".r",
      "mimetype": "text/x-r-source",
      "name": "R",
      "pygments_lexer": "r",
      "version": "3.3.1"
    },
    "colab": {
      "provenance": [],
      "collapsed_sections": []
    }
  },
  "cells": [
    {
      "cell_type": "markdown",
      "source": [
        "\n",
        "\n",
        "---\n",
        "\n",
        "\n",
        "**$$\\color{orange}{AML\\ 5103- Applications\\ of\\ Probability\\ and\\ Statistics: Lab\\ Problem\\ Set-1}$$**\n",
        "\n",
        "$$\\text{Due by 9 PM, Monday, October 24}$$\n",
        "\n",
        "---\n",
        "\n",
        " \n",
        "\n",
        "\n",
        "**Upload your**\n",
        "\n",
        "1. completed code clearly showing the output cells (.ipynb file)\n",
        "2. PDF of your completed code (go to file->print->save as PDF choosing Landscape orientation) \n",
        "\n",
        "**with the naming convention example** $$\\color{cyan}{LabProblemSet1\\_APS\\_SudarsanAcharya\\_AIML.ipynb}$$ **by clicking [here](https://tinyurl.com/43nc7b9z)**"
      ],
      "metadata": {
        "id": "wMAiVQ2dRitE"
      }
    },
    {
      "cell_type": "markdown",
      "source": [
        "We have a box with $20$ balls in four different colors. Out of the $20$ balls, there are $5$ balls for each color. Balls for each color are numbered from $1$ to $5.$ We pick $4$ balls from the box without replacement. Compute the following probabilities using simulation:\n",
        "1. Probability that we get two different colors, two balls each.\n",
        "2. Probability that we get four different colors and the sum of the numbers\n",
        "on the balls is equal to $8$."
      ],
      "metadata": {
        "id": "K4IKusvkE9HF"
      }
    },
    {
      "cell_type": "code",
      "metadata": {
        "id": "vmCFgYwxwPoK"
      },
      "source": [
        "# Sampling space (consider the colors as r, g, b, y and the balls numbered\n",
        "# as 1, 2, 3, 4, 5. So we have r1, g1, b1, y1, r2, g2, b2, y2, etc.)\n",
        "S = paste0(c('r', 'g', 'b', 'y'), c(replicate(?, c(1:?))))\n",
        "\n",
        "# Corresponding probabilites for the outcomes in the sampling space\n",
        "p = (?) * replicate(length(?), ?)\n",
        "\n",
        "nsimulations = ?\n",
        "\n",
        "simulatedData = replicate(?, sample(?, size = ?, replace = ?, prob = ?))\n",
        "#print(simulatedData) # use a small nsimulations for checking purposes"
      ],
      "execution_count": null,
      "outputs": []
    },
    {
      "cell_type": "code",
      "source": [
        "# Function to check if we get two different colors, two balls each\n",
        "checkEvent1 = function(data){\n",
        "  # Extract the first character in the simulated data\n",
        "  colors = substr(?, ?, ?)\n",
        "  #print(colors) # use for checking purposes\n",
        "  unique_colors = unique(?)\n",
        "  for (val in unique_colors){\n",
        "    if (sum(? == ?) != ?){\n",
        "      return(?)\n",
        "      }   \n",
        "  }\n",
        "  return(?)  \n",
        "}\n",
        "\n",
        "approximate_probability = ?\n",
        "cat('Approximate probability of getting 2 different colors, 2 balls each = ', approximate_probability, '\\n')"
      ],
      "metadata": {
        "id": "1AQKgvw6TilM"
      },
      "execution_count": null,
      "outputs": []
    },
    {
      "cell_type": "code",
      "source": [
        "# Function to check if we get four different colors and sum on the balls is 8\n",
        "checkEvent2 = function(data){\n",
        "  # Extract the first character in the simulated data\n",
        "  colors = ?\n",
        "  unique_colors = unique(?)\n",
        "  # Extract the second character in the simulated data\n",
        "  numbers = as.numeric(?)\n",
        "  if (?(?) == ? & sum(?) == 8){\n",
        "      return(?)\n",
        "      }\n",
        "  else{\n",
        "    return(?)\n",
        "      }   \n",
        "  }  \n",
        "approximate_probability = ?\n",
        "cat('Approximate probability of getting 4 different colors and sum 8 = ', approximate_probability, '\\n')"
      ],
      "metadata": {
        "id": "bxRt8dfqTiG6"
      },
      "execution_count": null,
      "outputs": []
    }
  ]
}