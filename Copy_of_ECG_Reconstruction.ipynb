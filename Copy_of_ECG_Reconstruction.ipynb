{
  "nbformat": 4,
  "nbformat_minor": 0,
  "metadata": {
    "colab": {
      "provenance": []
    },
    "kernelspec": {
      "name": "python3",
      "display_name": "Python 3"
    }
  },
  "cells": [
    {
      "cell_type": "code",
      "metadata": {
        "id": "AtKh7DZWkCMa"
      },
      "source": [
        "import pandas as pd\n",
        "import numpy as np\n",
        "from scipy import linalg\n",
        "import matplotlib.pyplot as plt\n",
        "import matplotlib.cm as cm\n",
        "plt.style.use('seaborn-whitegrid')\n",
        "%matplotlib inline\n",
        "\n",
        "from sklearn.preprocessing import StandardScaler, RobustScaler\n",
        "\n",
        "from scipy.sparse import random\n",
        "from scipy import stats"
      ],
      "execution_count": null,
      "outputs": []
    },
    {
      "cell_type": "code",
      "source": [
        "## Setup working directory and data directory\n",
        "DIR = '/content/drive/MyDrive/Colab Notebooks/MAHE/MSIS Coursework/OddSem2022MAHE/ForStudents/'\n",
        "DATA_DIR = DIR + 'Data/'"
      ],
      "metadata": {
        "id": "QWvyj9dCI9Tt"
      },
      "execution_count": null,
      "outputs": []
    },
    {
      "cell_type": "code",
      "source": [
        "# Load data\n",
        "FILE = DATA_DIR + 'ecg_missing.txt'\n",
        "df_ecg = pd.read_csv(\"/content/ecg_missing.txt\", header = None, names = ['ecgvalues'])\n",
        "#df_ecg.head()\n",
        "print(type(df_ecg['ecgvalues'].values[0]))\n",
        "df_ecg['ecgvalues'] = df_ecg['ecgvalues'].astype(float)\n",
        "print(type(df_ecg['ecgvalues'].values[0]))"
      ],
      "metadata": {
        "colab": {
          "base_uri": "https://localhost:8080/"
        },
        "id": "Zzh_Xu1NMwKN",
        "outputId": "df617c70-9216-4e06-a787-cd73b2d01b9d"
      },
      "execution_count": null,
      "outputs": [
        {
          "output_type": "stream",
          "name": "stdout",
          "text": [
            "<class 'str'>\n",
            "<class 'numpy.float64'>\n"
          ]
        }
      ]
    },
    {
      "cell_type": "code",
      "source": [
        "# Component plot of the ecg signal\n",
        "fig, ax = plt.subplots(1, 1, figsize = (8, 8))\n",
        "component_index = range(0, len(df_ecg['ecgvalues']))\n",
        "ax.plot(component_index, df_ecg['ecgvalues'], color = 'black', marker = '*')"
      ],
      "metadata": {
        "id": "_y_ysAi3SdFv",
        "colab": {
          "base_uri": "https://localhost:8080/",
          "height": 496
        },
        "outputId": "7924eaa7-ce28-4e7b-f50a-adc28c1948a8"
      },
      "execution_count": null,
      "outputs": [
        {
          "output_type": "execute_result",
          "data": {
            "text/plain": [
              "[<matplotlib.lines.Line2D at 0x7f47e25c3940>]"
            ]
          },
          "metadata": {},
          "execution_count": 4
        },
        {
          "output_type": "display_data",
          "data": {
            "text/plain": [
              "<Figure size 576x576 with 1 Axes>"
            ],
            "image/png": "[encoded data removed]"
          },
          "metadata": {
            "needs_background": "light"
          }
        }
      ]
    },
    {
      "cell_type": "code",
      "source": [
        "# Extract the indices corresponding to the missing ECG values\n",
        "t_unknown = df_ecg[df_ecg['ecgvalues'].isnull()].index\n",
        "\n",
        "# Extract the indices corresponding to the known ECG values\n",
        "t_known = df_ecg[~df_ecg['ecgvalues'].isnull()].index"
      ],
      "metadata": {
        "id": "JhhYcavxyXL4"
      },
      "execution_count": null,
      "outputs": []
    },
    {
      "cell_type": "code",
      "source": [
        "# Build a vector of known ecg_signal values\n",
        "x_known = df_ecg[~df_ecg['ecgvalues'].isnull()].values\n",
        "print(x_known)"
      ],
      "metadata": {
        "id": "T8idTDuo2n8s"
      },
      "execution_count": null,
      "outputs": []
    },
    {
      "cell_type": "code",
      "source": [
        "I = np.eye(len(df_ecg))\n",
        "S1 = I[:, t_known]\n",
        "S2 = I[:, t_unknown]\n",
        "S1"
      ],
      "metadata": {
        "id": "O0zIvziq4LW3",
        "colab": {
          "base_uri": "https://localhost:8080/"
        },
        "outputId": "e422754b-3161-461b-83e9-13531f75b410"
      },
      "execution_count": null,
      "outputs": [
        {
          "output_type": "execute_result",
          "data": {
            "text/plain": [
              "array([[1., 0., 0., ..., 0., 0., 0.],\n",
              "       [0., 0., 0., ..., 0., 0., 0.],\n",
              "       [0., 1., 0., ..., 0., 0., 0.],\n",
              "       ...,\n",
              "       [0., 0., 0., ..., 0., 0., 0.],\n",
              "       [0., 0., 0., ..., 0., 0., 0.],\n",
              "       [0., 0., 0., ..., 0., 0., 1.]])"
            ]
          },
          "metadata": {},
          "execution_count": 11
        }
      ]
    },
    {
      "cell_type": "code",
      "source": [
        "# Build the second-difference matrix D\n",
        "n = len(df_ecg) # size of the signal\n",
        "a = 1*np.ones(n-1)\n",
        "b = -2*np.ones(n)\n",
        "D = np.diag(a, -1) + np.diag(b) + np.diag(a, 1)\n",
        "D = D[1:-1, :]\n",
        "D.shape\n",
        "n"
      ],
      "metadata": {
        "id": "peWE5XNK4f8V",
        "colab": {
          "base_uri": "https://localhost:8080/"
        },
        "outputId": "09ab963f-aab3-4247-a8fa-0eb4d5988c18"
      },
      "execution_count": null,
      "outputs": [
        {
          "output_type": "execute_result",
          "data": {
            "text/plain": [
              "200"
            ]
          },
          "metadata": {},
          "execution_count": 14
        }
      ]
    },
    {
      "cell_type": "code",
      "source": [
        "# Reconstruct the ECG signal such that it is smooth\n",
        "A = np.dot(D, S2)\n",
        "b = np.dot(np.dot(-D, S1), x_known)\n",
        "v = linalg.lstsq(A, b)\n",
        "#print(v[0].flatten().shape)\n",
        "df_ecg.loc[t_unknown, 'ecgvalues'] =  v[0].flatten()"
      ],
      "metadata": {
        "id": "KZNeLP0bc38j"
      },
      "execution_count": null,
      "outputs": []
    },
    {
      "cell_type": "code",
      "source": [
        "# Check if there are any missing values\n",
        "#um(df_ecg['ecgvalues'].isnull())"
      ],
      "metadata": {
        "id": "IAy2ORtJgUtk"
      },
      "execution_count": null,
      "outputs": []
    },
    {
      "cell_type": "code",
      "source": [
        "# Component plot of the reconstructed ecg signal\n",
        "fig, ax = plt.subplots(1, 1, figsize = (8, 8))\n",
        "component_index = range(0, len(df_ecg['ecgvalues']))\n",
        "ax.plot(component_index, df_ecg['ecgvalues'], color = 'black', marker = '*')"
      ],
      "metadata": {
        "colab": {
          "base_uri": "https://localhost:8080/",
          "height": 496
        },
        "id": "Eir2W_kWcxmp",
        "outputId": "841216f3-c660-4909-dfce-39adc53bbeef"
      },
      "execution_count": null,
      "outputs": [
        {
          "output_type": "execute_result",
          "data": {
            "text/plain": [
              "[<matplotlib.lines.Line2D at 0x7f47dccb66a0>]"
            ]
          },
          "metadata": {},
          "execution_count": 16
        },
        {
          "output_type": "display_data",
          "data": {
            "text/plain": [
              "<Figure size 576x576 with 1 Axes>"
            ],
            "image/png": "[encoded data removed]"
          },
          "metadata": {
            "needs_background": "light"
          }
        }
      ]
    }
  ]
}